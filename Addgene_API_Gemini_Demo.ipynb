{
 "cells": [
  {
   "cell_type": "markdown",
   "id": "5da0f22c",
   "metadata": {},
   "source": [
    "# Addgene API Gemini Demo\n",
    "\n",
    "This notebook demonstrates how to use the `gemini_client` helpers together with the Addgene scraping code to design plasmids from natural language descriptions."
   ]
  },
  {
   "cell_type": "code",
   "execution_count": null,
   "id": "00e9f45b",
   "metadata": {},
   "outputs": [],
   "source": [
    "!pip install -q --use-deprecated=legacy-resolver -r requirements.txt"
   ]
  },
  {
   "cell_type": "markdown",
   "id": "bd15aa4c",
   "metadata": {},
   "source": [
    "Set your Google Gemini API key:"
   ]
  },
  {
   "cell_type": "code",
   "execution_count": null,
   "id": "9b040fa1",
   "metadata": {},
   "outputs": [],
   "source": [
    "import os\n",
    "os.environ[\"GEMINI_API_KEY\"] = \"YOUR_API_KEY_HERE\""
   ]
  },
  {
   "cell_type": "markdown",
   "id": "2413b09f",
   "metadata": {},
   "source": [
    "### 1. Import helpers"
   ]
  },
  {
   "cell_type": "code",
   "execution_count": null,
   "id": "f419f300",
   "metadata": {},
   "outputs": [],
   "source": [
    "from gemini_client import extract_search_params, design_plasmid\n",
    "from main import scrape_plasmids, ADDGENE_PLASMID_CATALOG_PATH\n",
    "import httpx, asyncio"
   ]
  },
  {
   "cell_type": "markdown",
   "id": "ef07bae4",
   "metadata": {},
   "source": [
    "### 2. Describe the plasmid you need"
   ]
  },
  {
   "cell_type": "code",
   "execution_count": null,
   "id": "6aeaa4ae",
   "metadata": {},
   "outputs": [],
   "source": [
    "description = \"E. coli expression vector with ampicillin resistance\"\n",
    "protein_seq = \"MKKFFDSRREQMMARAA\""
   ]
  },
  {
   "cell_type": "markdown",
   "id": "9cafbea0",
   "metadata": {},
   "source": [
    "### 3. Generate search parameters using Gemini"
   ]
  },
  {
   "cell_type": "code",
   "execution_count": null,
   "id": "2d7db89d",
   "metadata": {},
   "outputs": [],
   "source": [
    "params = extract_search_params(description)\n",
    "params"
   ]
  },
  {
   "cell_type": "markdown",
   "id": "f985acaa",
   "metadata": {},
   "source": [
    "### 4. Search Addgene for matching plasmids"
   ]
  },
  {
   "cell_type": "code",
   "execution_count": null,
   "id": "6a33b2f6",
   "metadata": {},
   "outputs": [],
   "source": [
    "async def search(params):\n",
    "    async with httpx.AsyncClient(base_url=\"https://www.addgene.org\", http2=True) as client:\n",
    "        resp = await client.get(ADDGENE_PLASMID_CATALOG_PATH, params=params)\n",
    "        resp.raise_for_status()\n",
    "        return scrape_plasmids(resp.text)\n",
    "\n",
    "plasmids = asyncio.run(search(params))\n",
    "plasmids[:3]"
   ]
  },
  {
   "cell_type": "markdown",
   "id": "8c4959a6",
   "metadata": {},
   "source": [
    "### 5. Design a plasmid sequence using Gemini"
   ]
  },
  {
   "cell_type": "code",
   "execution_count": null,
   "id": "5d07c01c",
   "metadata": {},
   "outputs": [],
   "source": [
    "design = design_plasmid(description, protein_seq)\n",
    "print(design)"
   ]
  }
 ],
 "metadata": {},
 "nbformat": 4,
 "nbformat_minor": 5
}
